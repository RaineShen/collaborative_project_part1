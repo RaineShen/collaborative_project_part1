{
 "cells": [
  {
   "cell_type": "code",
   "execution_count": null,
   "metadata": {},
   "outputs": [],
   "source": [
    "import pygal\n",
    "\n",
    "class plot:\n",
    "    \n",
    "    def __init__(self, title):\n",
    "        self.title = title\n",
    "        self.weight_list=[]\n",
    "        self.calory_list=[]\n",
    "        \n",
    "    def entry():\n",
    "    try:\n",
    "        weight = float(input('What is your weight in kg?'))\n",
    "        height = float(input('What is your height in cm?'))\n",
    "        age = int(input('What is your current age?'))\n",
    "        sex = input('What is your gender? (m/f)')\n",
    "        \n",
    "        proteinIntake = float(input('How many protein have you consumed in gram?'))\n",
    "        fatIntake = float(input('How many fat have you consumed in gram?'))\n",
    "        carbIntake = float(input('How many carbohydrate have you consumed in gram?'))\n",
    "        \n",
    "    except ValueError as e:\n",
    "        print('Please enter a valid value')\n",
    "        return\n",
    "    \n",
    "    calCalories(proteinIntake, fatIntake, carbIntake)\n",
    "    bodyNeeds(weight, height, sex, age, proteinIntake, fatIntake, carbIntake)\n",
    "        \n",
    "    def protTrack():\n",
    "        "
   ]
  }
 ],
 "metadata": {
  "kernelspec": {
   "display_name": "Python 3",
   "language": "python",
   "name": "python3"
  },
  "language_info": {
   "codemirror_mode": {
    "name": "ipython",
    "version": 3
   },
   "file_extension": ".py",
   "mimetype": "text/x-python",
   "name": "python",
   "nbconvert_exporter": "python",
   "pygments_lexer": "ipython3",
   "version": "3.8.3"
  }
 },
 "nbformat": 4,
 "nbformat_minor": 4
}
