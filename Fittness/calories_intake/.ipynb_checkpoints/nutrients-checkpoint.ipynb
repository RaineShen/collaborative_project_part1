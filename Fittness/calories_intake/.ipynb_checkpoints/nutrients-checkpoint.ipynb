{
 "cells": [
  {
   "cell_type": "code",
   "execution_count": null,
   "metadata": {},
   "outputs": [],
   "source": [
    "class Nutrients:\n",
    "    \n",
    "    def __init__(self, name):\n",
    "        self.name = name\n",
    "\n",
    "    def display(self):\n",
    "        print('Name: {}, Is it contained: {}'.format(self.name, self.isContain))"
   ]
  },
  {
   "cell_type": "code",
   "execution_count": null,
   "metadata": {},
   "outputs": [],
   "source": [
    "class Protein(Member):\n",
    "    \n",
    "    def __init__(self, name, isContain, calPerGram=4):\n",
    "        Member.__init__(self, name, isContain)\n",
    "        self.calPerGram = calPerGram\n",
    "        \n",
    "    def display(self):\n",
    "        Nutrients.display(self)\n",
    "        print('Physican Age: {}'.format(self.age))\n",
    "        \n",
    "    def avgage(self, num_physicians):\n",
    "    \n",
    "        avgage=sum(Member.age)/num_physician\n",
    "        \n",
    "        print(\"The average physician age is {}\".format(avgage))"
   ]
  },
  {
   "cell_type": "code",
   "execution_count": null,
   "metadata": {},
   "outputs": [],
   "source": [
    "class Fat(Member):\n",
    "    \n",
    "    def __init__(self, name, salary, monthly_Hours):\n",
    "        Member.__init__(self, name, salary)\n",
    "        \n",
    "        self.monthly_Hours=monthly_Hours\n",
    "        \n",
    "    def display(self):\n",
    "        Member.display(self)\n",
    "        print('Hours Worked:{} '.format(self.monthly_Hours))\n",
    "    \n",
    "    def AverageDailyHours(self, month):\n",
    "        \n",
    "        if (month=='January' or 'March' or 'May' or 'July' or 'August' or 'October' or 'December'):\n",
    "            av_d_hours = self.monthly_Hours/31\n",
    "            \n",
    "        elif (month=='April'or 'June' or 'September' or 'November'):\n",
    "            \n",
    "            av_d_hours=self.monthly_Hours/31\n",
    "            \n",
    "        else:\n",
    "            av_d_hours=self.monthly_Hours/28\n",
    "        \n",
    "        print(\"average hours worked in a day {}\".format(av_d_hours))\n",
    "        \n",
    "    def overTime (self, ovetime_hours):\n",
    "        \n",
    "        print('Hours Worked with overtime:{} '.format(newhours))"
   ]
  },
  {
   "cell_type": "code",
   "execution_count": null,
   "metadata": {},
   "outputs": [],
   "source": [
    "class Carbohydrate(Member):\n",
    "    \n",
    "    def __init__(self, name, salary, monthly_Hours):\n",
    "        Member.__init__(self, name, salary)\n",
    "        \n",
    "        self.monthly_Hours=monthly_Hours\n",
    "        \n",
    "    def display(self):\n",
    "        Member.display(self)\n",
    "        print('Hours Worked:{} '.format(self.monthly_Hours))\n",
    "    \n",
    "    def AverageDailyHours(self, month):\n",
    "        \n",
    "        if (month=='January' or 'March' or 'May' or 'July' or 'August' or 'October' or 'December'):\n",
    "            av_d_hours = self.monthly_Hours/31\n",
    "            \n",
    "        elif (month=='April'or 'June' or 'September' or 'November'):\n",
    "            \n",
    "            av_d_hours=self.monthly_Hours/31\n",
    "            \n",
    "        else:\n",
    "            av_d_hours=self.monthly_Hours/28\n",
    "        \n",
    "        print(\"average hours worked in a day {}\".format(av_d_hours))"
   ]
  }
 ],
 "metadata": {
  "kernelspec": {
   "display_name": "Python 3",
   "language": "python",
   "name": "python3"
  },
  "language_info": {
   "codemirror_mode": {
    "name": "ipython",
    "version": 3
   },
   "file_extension": ".py",
   "mimetype": "text/x-python",
   "name": "python",
   "nbconvert_exporter": "python",
   "pygments_lexer": "ipython3",
   "version": "3.8.3"
  }
 },
 "nbformat": 4,
 "nbformat_minor": 4
}
