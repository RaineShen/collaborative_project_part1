{
 "cells": [
  {
   "cell_type": "code",
<<<<<<< HEAD
   "execution_count": 31,
=======
   "execution_count": null,
>>>>>>> 08e3c062d22f890d845797240faf687e1441a0e8
   "metadata": {},
   "outputs": [],
   "source": [
    "class Nutrients:\n",
    "    \n",
<<<<<<< HEAD
    "    def __init__(self, name, amount):\n",
    "        self.name = name\n",
    "        self.amount = amount\n",
    "\n",
    "    def display(self):\n",
    "        print('You have consumed {:.2f} grams {} today.'.format(self.amount, self.name))"
=======
    "    def __init__(self, name):\n",
    "        self.name = name\n",
    "\n",
    "    def display(self):\n",
    "        print('Name: {}, Is it contained: {}'.format(self.name, self.isContain))"
>>>>>>> 08e3c062d22f890d845797240faf687e1441a0e8
   ]
  },
  {
   "cell_type": "code",
<<<<<<< HEAD
   "execution_count": 32,
   "metadata": {},
   "outputs": [],
   "source": [
    "class Protein(Nutrients):\n",
    "    \n",
    "    def __init__(self, name, amount, calPerGram=4):\n",
    "        Nutrients.__init__(self, name, amount)\n",
    "        self.calPerGram = calPerGram\n",
    "        \n",
    "    def protCal(self):\n",
    "        return self.amount * self.calPerGram\n",
    "        \n",
    "    def displaypCalories(self):\n",
    "        Nutrients.display(self)\n",
    "        toAmount = self.amount * self.calPerGram\n",
    "        print('Calories intaken from protein is {:.2f}.'.format(toAmount))\n"
=======
   "execution_count": null,
   "metadata": {},
   "outputs": [],
   "source": [
    "class Protein(Member):\n",
    "    \n",
    "    def __init__(self, name, isContain, calPerGram=4):\n",
    "        Member.__init__(self, name, isContain)\n",
    "        self.calPerGram = calPerGram\n",
    "        \n",
    "    def display(self):\n",
    "        Nutrients.display(self)\n",
    "        print('Physican Age: {}'.format(self.age))\n",
    "        \n",
    "    def avgage(self, num_physicians):\n",
    "    \n",
    "        avgage=sum(Member.age)/num_physician\n",
    "        \n",
    "        print(\"The average physician age is {}\".format(avgage))"
>>>>>>> 08e3c062d22f890d845797240faf687e1441a0e8
   ]
  },
  {
   "cell_type": "code",
<<<<<<< HEAD
   "execution_count": 33,
   "metadata": {},
   "outputs": [],
   "source": [
    "class Fat(Nutrients):\n",
    "    \n",
    "    def __init__(self, name, amount, calPerGram=9):\n",
    "        Nutrients.__init__(self, name, amount)\n",
    "        self.calPerGram = calPerGram\n",
    "        \n",
    "    def fatCal(self):\n",
    "        return self.amount * self.calPerGram\n",
    "        \n",
    "    def displayfCalories(self):\n",
    "        Nutrients.display(self)\n",
    "        toAmount = self.amount * self.calPerGram\n",
    "        print('Calories intaken from fat is {:.2f}.'.format(toAmount))\n",
    "        "
   ]
  },
  {
   "cell_type": "code",
   "execution_count": 34,
   "metadata": {},
   "outputs": [],
   "source": [
    "class Carbohydrate(Nutrients):\n",
    "    \n",
    "    def __init__(self, name, amount, calPerGram=4):\n",
    "        Nutrients.__init__(self, name, amount)\n",
    "        self.calPerGram = calPerGram\n",
    "        \n",
    "    def carbCal(self):\n",
    "        return self.amount * self.calPerGram\n",
    "        \n",
    "    def displaycCalories(self):\n",
    "        Nutrients.display(self)\n",
    "        toAmount = self.amount * self.calPerGram\n",
    "        print('Calories intaken from carbohydrate is {:.2f}.'.format(toAmount))\n",
    "    "
=======
   "execution_count": null,
   "metadata": {},
   "outputs": [],
   "source": [
    "class Fat(Member):\n",
    "    \n",
    "    def __init__(self, name, salary, monthly_Hours):\n",
    "        Member.__init__(self, name, salary)\n",
    "        \n",
    "        self.monthly_Hours=monthly_Hours\n",
    "        \n",
    "    def display(self):\n",
    "        Member.display(self)\n",
    "        print('Hours Worked:{} '.format(self.monthly_Hours))\n",
    "    \n",
    "    def AverageDailyHours(self, month):\n",
    "        \n",
    "        if (month=='January' or 'March' or 'May' or 'July' or 'August' or 'October' or 'December'):\n",
    "            av_d_hours = self.monthly_Hours/31\n",
    "            \n",
    "        elif (month=='April'or 'June' or 'September' or 'November'):\n",
    "            \n",
    "            av_d_hours=self.monthly_Hours/31\n",
    "            \n",
    "        else:\n",
    "            av_d_hours=self.monthly_Hours/28\n",
    "        \n",
    "        print(\"average hours worked in a day {}\".format(av_d_hours))\n",
    "        \n",
    "    def overTime (self, ovetime_hours):\n",
    "        \n",
    "        print('Hours Worked with overtime:{} '.format(newhours))"
>>>>>>> 08e3c062d22f890d845797240faf687e1441a0e8
   ]
  },
  {
   "cell_type": "code",
<<<<<<< HEAD
   "execution_count": 53,
   "metadata": {},
   "outputs": [],
   "source": [
    "def entry():\n",
    "    \n",
    "    try:\n",
    "        proteinIntake = float(input('How many protein have you consumed in gram?'))\n",
    "        fatIntake = float(input('How many fat have you consumed in gram?'))\n",
    "        carbIntake = float(input('How many carbohydrate have you consumed in gram?'))\n",
    "        \n",
    "        weight = float(input('What is your weight in kg?'))\n",
    "        height = float(input('What is your height in cm?'))\n",
    "        age = int(input('What is your current age?'))\n",
    "        sex = input('What is your gender? (m/f)')\n",
    "        \n",
    "    except ValueError as e:\n",
    "        print('Please enter a valid value')\n",
    "        return\n",
    "    calCalories(proteinIntake, fatIntake, carbIntake)\n",
    "    bodyNeeds(weight, height, sex, age, proteinIntake, fatIntake, carbIntake)\n",
    "    \n",
    "    \n",
    "def calCalories(protI, fatI, carbI):\n",
    "    prot = Protein('protein', protI, 4)\n",
    "    fat = Fat('fat', fatI, 9)\n",
    "    carb = Carbohydrate('carbohydrate', carbI, 4)\n",
    "    print('Summary:')\n",
    "    prot.displaypCalories()\n",
    "    fat.displayfCalories()\n",
    "    carb.displaycCalories()\n",
    "    totalCalo = prot.protCal() + fat.fatCal() + carb.carbCal()\n",
    "    print('The total calories you have intaken today is {:.2f}'.format(totalCalo))\n",
    "    \n",
    "    \n",
    "def bodyNeeds(w, h, s, age, proAmt, fatAmt, carbAmt):\n",
    "    prot = Protein('protein', proAmt, 4)\n",
    "    fat = Fat('fat', fatAmt, 9)\n",
    "    carb = Carbohydrate('carbohydrate', carbAmt, 4)\n",
    "    totalCalo = prot.protCal() + fat.fatCal() + carb.carbCal()\n",
    "    rdaPro = 0.8 * w\n",
    "    rdaFat = 0.3 * totalCalo\n",
    "    rdaCarb = 0.65 * totalCalo\n",
    "    if s == 'f':\n",
    "        bmr = (447.6 + 9.25 * w) + (3.10 * h) - (4.33 * age)\n",
    "    elif s == 'm':\n",
    "        bmr = (88.4 + 13.4 * w) + (4.8 * h) - (5.68 * age)\n",
    "    if prot.amount < rdaPro:\n",
    "        diffP = rdaPro - prot.protCal()\n",
    "        print('You need to intake {:.2f} grams more protein daily!'.format(diffP))\n",
    "    if fat.amount > rdaFat:\n",
    "        diffF = fat.amount - rdaFat\n",
    "        print('You need to cut your daily fat intake by {:.2f} grams!'.format(diffF))\n",
    "    elif fat.amount < rdaFat and totalCalo <= bmr:\n",
    "        diffF = rdaFat - fat.amount\n",
    "        print('You need to intake {:.2f} grams more fat!'.format(diffF))\n",
    "    if carb.amount > rdaCarb:\n",
    "        diffC = carb.amount - rdaCarb\n",
    "        print('You need to cut your daily carbohydrate intake by {:.2f} grams!'.format(diffC))\n",
    "    elif carb.amount < 0.45 * totalCalo and totalCalo <= bmr:\n",
    "        diffC = rdaCarb - carb.amount\n",
    "        print('You need to intake {:.2f} grams more carbohydrate!'.format(diffC))\n",
    "    \n",
    "    if totalCalo > bmr:\n",
    "        diffCal = totalCalo - bmr\n",
    "        print('You need to cut down your daily calorie intake by {:.2f} or do more exercises!'.format(diffCal))\n",
    "    elif totalCalo == bmr:\n",
    "        print('You are doing great to keep your weight!')\n",
    "    else:\n",
    "        diffCal = bmr - totalCalo\n",
    "        print('You need to intake more nutrients by {:.2f} calories daily!'.format(diffCal))\n",
    "    "
   ]
  },
  {
   "cell_type": "code",
   "execution_count": 54,
   "metadata": {},
   "outputs": [
    {
     "name": "stdin",
     "output_type": "stream",
     "text": [
      "How many protein have you consumed in gram? 150\n",
      "How many fat have you consumed in gram? 130\n",
      "How many carbohydrate have you consumed in gram? 600\n",
      "What is your weight in kg? 50\n",
      "What is your height in cm? 160\n",
      "What is your current age? 30\n",
      "What is your gender? (m/f) f\n"
     ]
    },
    {
     "name": "stdout",
     "output_type": "stream",
     "text": [
      "Summary:\n",
      "You have consumed 150.00 grams protein today.\n",
      "Calories intaken from protein is 600.00.\n",
      "You have consumed 130.00 grams fat today.\n",
      "Calories intaken from fat is 1170.00.\n",
      "You have consumed 600.00 grams carbohydrate today.\n",
      "Calories intaken from carbohydrate is 2400.00.\n",
      "The total calories you have intaken today is 4170.00\n",
      "You need to cut down your daily calorie intake by 2893.80 or do more exercises!\n"
     ]
    }
   ],
   "source": [
    "entry()"
   ]
  },
  {
   "cell_type": "code",
   "execution_count": null,
   "metadata": {},
   "outputs": [],
   "source": []
=======
   "execution_count": null,
   "metadata": {},
   "outputs": [],
   "source": [
    "class Carbohydrate(Member):\n",
    "    \n",
    "    def __init__(self, name, salary, monthly_Hours):\n",
    "        Member.__init__(self, name, salary)\n",
    "        \n",
    "        self.monthly_Hours=monthly_Hours\n",
    "        \n",
    "    def display(self):\n",
    "        Member.display(self)\n",
    "        print('Hours Worked:{} '.format(self.monthly_Hours))\n",
    "    \n",
    "    def AverageDailyHours(self, month):\n",
    "        \n",
    "        if (month=='January' or 'March' or 'May' or 'July' or 'August' or 'October' or 'December'):\n",
    "            av_d_hours = self.monthly_Hours/31\n",
    "            \n",
    "        elif (month=='April'or 'June' or 'September' or 'November'):\n",
    "            \n",
    "            av_d_hours=self.monthly_Hours/31\n",
    "            \n",
    "        else:\n",
    "            av_d_hours=self.monthly_Hours/28\n",
    "        \n",
    "        print(\"average hours worked in a day {}\".format(av_d_hours))"
   ]
>>>>>>> 08e3c062d22f890d845797240faf687e1441a0e8
  }
 ],
 "metadata": {
  "kernelspec": {
   "display_name": "Python 3",
   "language": "python",
   "name": "python3"
  },
  "language_info": {
   "codemirror_mode": {
    "name": "ipython",
    "version": 3
   },
   "file_extension": ".py",
   "mimetype": "text/x-python",
   "name": "python",
   "nbconvert_exporter": "python",
   "pygments_lexer": "ipython3",
   "version": "3.8.3"
  }
 },
 "nbformat": 4,
 "nbformat_minor": 4
}
