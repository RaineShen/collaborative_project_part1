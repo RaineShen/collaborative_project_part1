{
 "cells": [
  {
   "cell_type": "code",
   "execution_count": 147,
   "metadata": {},
   "outputs": [],
   "source": [
    "import pygal\n",
    "from IPython.display import SVG, display\n",
    "class Records:\n",
    "    def __init__(self,name,age,gender,height,weight):\n",
    "        \n",
    "        self.name=name\n",
    "        self.age=age\n",
    "        self.gender=gender\n",
    "        self.height=height  \n",
    "        self.weight=weight   \n",
    "        self.weight_list=[]\n",
    "    \n",
    "    def add_weight(self, new_weight):\n",
    "        self.weight_list.append(new_weight)\n",
    "        if len(self.weight_list)!=0 and new_weight < self.weight_list[-1]:\n",
    "            d=self.weight_list[-1]-new_weight\n",
    "            print(\"Congrats! You lost {} kg, Keep up!\".format(d))\n",
    "        else:\n",
    "            print(\"Today's weight is {} kg\".format(new_weight))\n",
    "            \n",
    "            \n",
    "    def weight_change_plot(self):\n",
    "        line_chart = pygal.Line()\n",
    "        line_chart.title = 'Weight Changes '\n",
    "        line_chart.x_title='Day'\n",
    "        line_chart.y_title='kg'\n",
    "        line_chart.add(self.name, self.weight_list)\n",
    "        line_chart.x_labels = map(str, range(0,len(self.weight_list)))\n",
    "        display(SVG(line_chart.render (disable_xml_declaration=True)))\n",
    "    \n",
    "    def display(self):\n",
    "        print(\"Name: {} Age: {} Genger: {} Height: {} Wegiht:{} \".format(self.name,self.age,self.gender,self.height,self.weight))\n",
    "        print(\"weight list{}\".format(self.weight_list))\n",
    "\n",
    "\n",
    "\n",
    "# class Exercise(Records):\n",
    "#     def __init__(self,name,age,gender,height,time):\n",
    "#         self.time=time \n",
    "#     der display(self):\n",
    "        \n",
    "        \n",
    "    "
   ]
  },
  {
   "cell_type": "code",
   "execution_count": null,
   "metadata": {},
   "outputs": [],
   "source": []
  },
  {
   "cell_type": "code",
   "execution_count": 149,
   "metadata": {},
   "outputs": [
    {
     "name": "stdout",
     "output_type": "stream",
     "text": [
      "Today's weight is 50 kg\n",
      "Today's weight is 40 kg\n",
      "Today's weight is 65 kg\n"
     ]
    },
    {
     "data": {
      "image/svg+xml": [
       "<svg xmlns:xlink=\"http://www.w3.org/1999/xlink\" xmlns=\"http://www.w3.org/2000/svg\" id=\"chart-2e8f8d3b-14dd-477c-ae64-f50712f8bf32\" class=\"pygal-chart\" viewBox=\"0 0 800 600\"><!--Generated with pygal 2.4.0 (etree) ©Kozea 2012-2016 on 2020-11-26--><!--http://pygal.org--><!--http://github.com/Kozea/pygal--><defs><style type=\"text/css\">#chart-2e8f8d3b-14dd-477c-ae64-f50712f8bf32{-webkit-user-select:none;-webkit-font-smoothing:antialiased;font-family:Consolas,&quot;Liberation Mono&quot;,Menlo,Courier,monospace}#chart-2e8f8d3b-14dd-477c-ae64-f50712f8bf32 .title{font-family:Consolas,&quot;Liberation Mono&quot;,Menlo,Courier,monospace;font-size:16px}#chart-2e8f8d3b-14dd-477c-ae64-f50712f8bf32 .legends .legend text{font-family:Consolas,&quot;Liberation Mono&quot;,Menlo,Courier,monospace;font-size:14px}#chart-2e8f8d3b-14dd-477c-ae64-f50712f8bf32 .axis text{font-family:Consolas,&quot;Liberation Mono&quot;,Menlo,Courier,monospace;font-size:10px}#chart-2e8f8d3b-14dd-477c-ae64-f50712f8bf32 .axis text.major{font-family:Consolas,&quot;Liberation Mono&quot;,Menlo,Courier,monospace;font-size:10px}#chart-2e8f8d3b-14dd-477c-ae64-f50712f8bf32 .text-overlay text.value{font-family:Consolas,&quot;Liberation Mono&quot;,Menlo,Courier,monospace;font-size:16px}#chart-2e8f8d3b-14dd-477c-ae64-f50712f8bf32 .text-overlay text.label{font-family:Consolas,&quot;Liberation Mono&quot;,Menlo,Courier,monospace;font-size:10px}#chart-2e8f8d3b-14dd-477c-ae64-f50712f8bf32 .tooltip{font-family:Consolas,&quot;Liberation Mono&quot;,Menlo,Courier,monospace;font-size:14px}#chart-2e8f8d3b-14dd-477c-ae64-f50712f8bf32 text.no_data{font-family:Consolas,&quot;Liberation Mono&quot;,Menlo,Courier,monospace;font-size:64px}\n",
       "#chart-2e8f8d3b-14dd-477c-ae64-f50712f8bf32{background-color:rgba(249,249,249,1)}#chart-2e8f8d3b-14dd-477c-ae64-f50712f8bf32 path,#chart-2e8f8d3b-14dd-477c-ae64-f50712f8bf32 line,#chart-2e8f8d3b-14dd-477c-ae64-f50712f8bf32 rect,#chart-2e8f8d3b-14dd-477c-ae64-f50712f8bf32 circle{-webkit-transition:150ms;-moz-transition:150ms;transition:150ms}#chart-2e8f8d3b-14dd-477c-ae64-f50712f8bf32 .graph &gt; .background{fill:rgba(249,249,249,1)}#chart-2e8f8d3b-14dd-477c-ae64-f50712f8bf32 .plot &gt; .background{fill:rgba(255,255,255,1)}#chart-2e8f8d3b-14dd-477c-ae64-f50712f8bf32 .graph{fill:rgba(0,0,0,.87)}#chart-2e8f8d3b-14dd-477c-ae64-f50712f8bf32 text.no_data{fill:rgba(0,0,0,1)}#chart-2e8f8d3b-14dd-477c-ae64-f50712f8bf32 .title{fill:rgba(0,0,0,1)}#chart-2e8f8d3b-14dd-477c-ae64-f50712f8bf32 .legends .legend text{fill:rgba(0,0,0,.87)}#chart-2e8f8d3b-14dd-477c-ae64-f50712f8bf32 .legends .legend:hover text{fill:rgba(0,0,0,1)}#chart-2e8f8d3b-14dd-477c-ae64-f50712f8bf32 .axis .line{stroke:rgba(0,0,0,1)}#chart-2e8f8d3b-14dd-477c-ae64-f50712f8bf32 .axis .guide.line{stroke:rgba(0,0,0,.54)}#chart-2e8f8d3b-14dd-477c-ae64-f50712f8bf32 .axis .major.line{stroke:rgba(0,0,0,.87)}#chart-2e8f8d3b-14dd-477c-ae64-f50712f8bf32 .axis text.major{fill:rgba(0,0,0,1)}#chart-2e8f8d3b-14dd-477c-ae64-f50712f8bf32 .axis.y .guides:hover .guide.line,#chart-2e8f8d3b-14dd-477c-ae64-f50712f8bf32 .line-graph .axis.x .guides:hover .guide.line,#chart-2e8f8d3b-14dd-477c-ae64-f50712f8bf32 .stackedline-graph .axis.x .guides:hover .guide.line,#chart-2e8f8d3b-14dd-477c-ae64-f50712f8bf32 .xy-graph .axis.x .guides:hover .guide.line{stroke:rgba(0,0,0,1)}#chart-2e8f8d3b-14dd-477c-ae64-f50712f8bf32 .axis .guides:hover text{fill:rgba(0,0,0,1)}#chart-2e8f8d3b-14dd-477c-ae64-f50712f8bf32 .reactive{fill-opacity:.7;stroke-opacity:.8}#chart-2e8f8d3b-14dd-477c-ae64-f50712f8bf32 .ci{stroke:rgba(0,0,0,.87)}#chart-2e8f8d3b-14dd-477c-ae64-f50712f8bf32 .reactive.active,#chart-2e8f8d3b-14dd-477c-ae64-f50712f8bf32 .active .reactive{fill-opacity:.8;stroke-opacity:.9;stroke-width:4}#chart-2e8f8d3b-14dd-477c-ae64-f50712f8bf32 .ci .reactive.active{stroke-width:1.5}#chart-2e8f8d3b-14dd-477c-ae64-f50712f8bf32 .series text{fill:rgba(0,0,0,1)}#chart-2e8f8d3b-14dd-477c-ae64-f50712f8bf32 .tooltip rect{fill:rgba(255,255,255,1);stroke:rgba(0,0,0,1);-webkit-transition:opacity 150ms;-moz-transition:opacity 150ms;transition:opacity 150ms}#chart-2e8f8d3b-14dd-477c-ae64-f50712f8bf32 .tooltip .label{fill:rgba(0,0,0,.87)}#chart-2e8f8d3b-14dd-477c-ae64-f50712f8bf32 .tooltip .label{fill:rgba(0,0,0,.87)}#chart-2e8f8d3b-14dd-477c-ae64-f50712f8bf32 .tooltip .legend{font-size:.8em;fill:rgba(0,0,0,.54)}#chart-2e8f8d3b-14dd-477c-ae64-f50712f8bf32 .tooltip .x_label{font-size:.6em;fill:rgba(0,0,0,1)}#chart-2e8f8d3b-14dd-477c-ae64-f50712f8bf32 .tooltip .xlink{font-size:.5em;text-decoration:underline}#chart-2e8f8d3b-14dd-477c-ae64-f50712f8bf32 .tooltip .value{font-size:1.5em}#chart-2e8f8d3b-14dd-477c-ae64-f50712f8bf32 .bound{font-size:.5em}#chart-2e8f8d3b-14dd-477c-ae64-f50712f8bf32 .max-value{font-size:.75em;fill:rgba(0,0,0,.54)}#chart-2e8f8d3b-14dd-477c-ae64-f50712f8bf32 .map-element{fill:rgba(255,255,255,1);stroke:rgba(0,0,0,.54) !important}#chart-2e8f8d3b-14dd-477c-ae64-f50712f8bf32 .map-element .reactive{fill-opacity:inherit;stroke-opacity:inherit}#chart-2e8f8d3b-14dd-477c-ae64-f50712f8bf32 .color-0,#chart-2e8f8d3b-14dd-477c-ae64-f50712f8bf32 .color-0 a:visited{stroke:#F44336;fill:#F44336}#chart-2e8f8d3b-14dd-477c-ae64-f50712f8bf32 .text-overlay .color-0 text{fill:black}\n",
       "#chart-2e8f8d3b-14dd-477c-ae64-f50712f8bf32 text.no_data{text-anchor:middle}#chart-2e8f8d3b-14dd-477c-ae64-f50712f8bf32 .guide.line{fill:none}#chart-2e8f8d3b-14dd-477c-ae64-f50712f8bf32 .centered{text-anchor:middle}#chart-2e8f8d3b-14dd-477c-ae64-f50712f8bf32 .title{text-anchor:middle}#chart-2e8f8d3b-14dd-477c-ae64-f50712f8bf32 .legends .legend text{fill-opacity:1}#chart-2e8f8d3b-14dd-477c-ae64-f50712f8bf32 .axis.x text{text-anchor:middle}#chart-2e8f8d3b-14dd-477c-ae64-f50712f8bf32 .axis.x:not(.web) text[transform]{text-anchor:start}#chart-2e8f8d3b-14dd-477c-ae64-f50712f8bf32 .axis.x:not(.web) text[transform].backwards{text-anchor:end}#chart-2e8f8d3b-14dd-477c-ae64-f50712f8bf32 .axis.y text{text-anchor:end}#chart-2e8f8d3b-14dd-477c-ae64-f50712f8bf32 .axis.y text[transform].backwards{text-anchor:start}#chart-2e8f8d3b-14dd-477c-ae64-f50712f8bf32 .axis.y2 text{text-anchor:start}#chart-2e8f8d3b-14dd-477c-ae64-f50712f8bf32 .axis.y2 text[transform].backwards{text-anchor:end}#chart-2e8f8d3b-14dd-477c-ae64-f50712f8bf32 .axis .guide.line{stroke-dasharray:4,4}#chart-2e8f8d3b-14dd-477c-ae64-f50712f8bf32 .axis .major.guide.line{stroke-dasharray:6,6}#chart-2e8f8d3b-14dd-477c-ae64-f50712f8bf32 .horizontal .axis.y .guide.line,#chart-2e8f8d3b-14dd-477c-ae64-f50712f8bf32 .horizontal .axis.y2 .guide.line,#chart-2e8f8d3b-14dd-477c-ae64-f50712f8bf32 .vertical .axis.x .guide.line{opacity:0}#chart-2e8f8d3b-14dd-477c-ae64-f50712f8bf32 .horizontal .axis.always_show .guide.line,#chart-2e8f8d3b-14dd-477c-ae64-f50712f8bf32 .vertical .axis.always_show .guide.line{opacity:1 !important}#chart-2e8f8d3b-14dd-477c-ae64-f50712f8bf32 .axis.y .guides:hover .guide.line,#chart-2e8f8d3b-14dd-477c-ae64-f50712f8bf32 .axis.y2 .guides:hover .guide.line,#chart-2e8f8d3b-14dd-477c-ae64-f50712f8bf32 .axis.x .guides:hover .guide.line{opacity:1}#chart-2e8f8d3b-14dd-477c-ae64-f50712f8bf32 .axis .guides:hover text{opacity:1}#chart-2e8f8d3b-14dd-477c-ae64-f50712f8bf32 .nofill{fill:none}#chart-2e8f8d3b-14dd-477c-ae64-f50712f8bf32 .subtle-fill{fill-opacity:.2}#chart-2e8f8d3b-14dd-477c-ae64-f50712f8bf32 .dot{stroke-width:1px;fill-opacity:1}#chart-2e8f8d3b-14dd-477c-ae64-f50712f8bf32 .dot.active{stroke-width:5px}#chart-2e8f8d3b-14dd-477c-ae64-f50712f8bf32 .dot.negative{fill:transparent}#chart-2e8f8d3b-14dd-477c-ae64-f50712f8bf32 text,#chart-2e8f8d3b-14dd-477c-ae64-f50712f8bf32 tspan{stroke:none !important}#chart-2e8f8d3b-14dd-477c-ae64-f50712f8bf32 .series text.active{opacity:1}#chart-2e8f8d3b-14dd-477c-ae64-f50712f8bf32 .tooltip rect{fill-opacity:.95;stroke-width:.5}#chart-2e8f8d3b-14dd-477c-ae64-f50712f8bf32 .tooltip text{fill-opacity:1}#chart-2e8f8d3b-14dd-477c-ae64-f50712f8bf32 .showable{visibility:hidden}#chart-2e8f8d3b-14dd-477c-ae64-f50712f8bf32 .showable.shown{visibility:visible}#chart-2e8f8d3b-14dd-477c-ae64-f50712f8bf32 .gauge-background{fill:rgba(229,229,229,1);stroke:none}#chart-2e8f8d3b-14dd-477c-ae64-f50712f8bf32 .bg-lines{stroke:rgba(249,249,249,1);stroke-width:2px}</style><script type=\"text/javascript\">window.pygal = window.pygal || {};window.pygal.config = window.pygal.config || {};window.pygal.config['2e8f8d3b-14dd-477c-ae64-f50712f8bf32'] = {&quot;allow_interruptions&quot;: false, &quot;box_mode&quot;: &quot;extremes&quot;, &quot;classes&quot;: [&quot;pygal-chart&quot;], &quot;css&quot;: [&quot;file://style.css&quot;, &quot;file://graph.css&quot;], &quot;defs&quot;: [], &quot;disable_xml_declaration&quot;: true, &quot;dots_size&quot;: 2.5, &quot;dynamic_print_values&quot;: false, &quot;explicit_size&quot;: false, &quot;fill&quot;: false, &quot;force_uri_protocol&quot;: &quot;https&quot;, &quot;formatter&quot;: null, &quot;half_pie&quot;: false, &quot;height&quot;: 600, &quot;include_x_axis&quot;: false, &quot;inner_radius&quot;: 0, &quot;interpolate&quot;: null, &quot;interpolation_parameters&quot;: {}, &quot;interpolation_precision&quot;: 250, &quot;inverse_y_axis&quot;: false, &quot;js&quot;: [&quot;//kozea.github.io/pygal.js/2.0.x/pygal-tooltips.min.js&quot;], &quot;legend_at_bottom&quot;: false, &quot;legend_at_bottom_columns&quot;: null, &quot;legend_box_size&quot;: 12, &quot;logarithmic&quot;: false, &quot;margin&quot;: 20, &quot;margin_bottom&quot;: null, &quot;margin_left&quot;: null, &quot;margin_right&quot;: null, &quot;margin_top&quot;: null, &quot;max_scale&quot;: 16, &quot;min_scale&quot;: 4, &quot;missing_value_fill_truncation&quot;: &quot;x&quot;, &quot;no_data_text&quot;: &quot;No data&quot;, &quot;no_prefix&quot;: false, &quot;order_min&quot;: null, &quot;pretty_print&quot;: false, &quot;print_labels&quot;: false, &quot;print_values&quot;: false, &quot;print_values_position&quot;: &quot;center&quot;, &quot;print_zeroes&quot;: true, &quot;range&quot;: null, &quot;rounded_bars&quot;: null, &quot;secondary_range&quot;: null, &quot;show_dots&quot;: true, &quot;show_legend&quot;: true, &quot;show_minor_x_labels&quot;: true, &quot;show_minor_y_labels&quot;: true, &quot;show_only_major_dots&quot;: false, &quot;show_x_guides&quot;: false, &quot;show_x_labels&quot;: true, &quot;show_y_guides&quot;: true, &quot;show_y_labels&quot;: true, &quot;spacing&quot;: 10, &quot;stack_from_top&quot;: false, &quot;strict&quot;: false, &quot;stroke&quot;: true, &quot;stroke_style&quot;: null, &quot;style&quot;: {&quot;background&quot;: &quot;rgba(249, 249, 249, 1)&quot;, &quot;ci_colors&quot;: [], &quot;colors&quot;: [&quot;#F44336&quot;, &quot;#3F51B5&quot;, &quot;#009688&quot;, &quot;#FFC107&quot;, &quot;#FF5722&quot;, &quot;#9C27B0&quot;, &quot;#03A9F4&quot;, &quot;#8BC34A&quot;, &quot;#FF9800&quot;, &quot;#E91E63&quot;, &quot;#2196F3&quot;, &quot;#4CAF50&quot;, &quot;#FFEB3B&quot;, &quot;#673AB7&quot;, &quot;#00BCD4&quot;, &quot;#CDDC39&quot;, &quot;#9E9E9E&quot;, &quot;#607D8B&quot;], &quot;font_family&quot;: &quot;Consolas, \\&quot;Liberation Mono\\&quot;, Menlo, Courier, monospace&quot;, &quot;foreground&quot;: &quot;rgba(0, 0, 0, .87)&quot;, &quot;foreground_strong&quot;: &quot;rgba(0, 0, 0, 1)&quot;, &quot;foreground_subtle&quot;: &quot;rgba(0, 0, 0, .54)&quot;, &quot;guide_stroke_dasharray&quot;: &quot;4,4&quot;, &quot;label_font_family&quot;: &quot;Consolas, \\&quot;Liberation Mono\\&quot;, Menlo, Courier, monospace&quot;, &quot;label_font_size&quot;: 10, &quot;legend_font_family&quot;: &quot;Consolas, \\&quot;Liberation Mono\\&quot;, Menlo, Courier, monospace&quot;, &quot;legend_font_size&quot;: 14, &quot;major_guide_stroke_dasharray&quot;: &quot;6,6&quot;, &quot;major_label_font_family&quot;: &quot;Consolas, \\&quot;Liberation Mono\\&quot;, Menlo, Courier, monospace&quot;, &quot;major_label_font_size&quot;: 10, &quot;no_data_font_family&quot;: &quot;Consolas, \\&quot;Liberation Mono\\&quot;, Menlo, Courier, monospace&quot;, &quot;no_data_font_size&quot;: 64, &quot;opacity&quot;: &quot;.7&quot;, &quot;opacity_hover&quot;: &quot;.8&quot;, &quot;plot_background&quot;: &quot;rgba(255, 255, 255, 1)&quot;, &quot;stroke_opacity&quot;: &quot;.8&quot;, &quot;stroke_opacity_hover&quot;: &quot;.9&quot;, &quot;title_font_family&quot;: &quot;Consolas, \\&quot;Liberation Mono\\&quot;, Menlo, Courier, monospace&quot;, &quot;title_font_size&quot;: 16, &quot;tooltip_font_family&quot;: &quot;Consolas, \\&quot;Liberation Mono\\&quot;, Menlo, Courier, monospace&quot;, &quot;tooltip_font_size&quot;: 14, &quot;transition&quot;: &quot;150ms&quot;, &quot;value_background&quot;: &quot;rgba(229, 229, 229, 1)&quot;, &quot;value_colors&quot;: [], &quot;value_font_family&quot;: &quot;Consolas, \\&quot;Liberation Mono\\&quot;, Menlo, Courier, monospace&quot;, &quot;value_font_size&quot;: 16, &quot;value_label_font_family&quot;: &quot;Consolas, \\&quot;Liberation Mono\\&quot;, Menlo, Courier, monospace&quot;, &quot;value_label_font_size&quot;: 10}, &quot;title&quot;: &quot;Weight Changes &quot;, &quot;tooltip_border_radius&quot;: 0, &quot;tooltip_fancy_mode&quot;: true, &quot;truncate_label&quot;: null, &quot;truncate_legend&quot;: null, &quot;width&quot;: 800, &quot;x_label_rotation&quot;: 0, &quot;x_labels&quot;: [&quot;0&quot;, &quot;1&quot;, &quot;2&quot;], &quot;x_labels_major&quot;: null, &quot;x_labels_major_count&quot;: null, &quot;x_labels_major_every&quot;: null, &quot;x_title&quot;: &quot;Day&quot;, &quot;xrange&quot;: null, &quot;y_label_rotation&quot;: 0, &quot;y_labels&quot;: null, &quot;y_labels_major&quot;: null, &quot;y_labels_major_count&quot;: null, &quot;y_labels_major_every&quot;: null, &quot;y_title&quot;: &quot;kg&quot;, &quot;zero&quot;: 0, &quot;legends&quot;: [&quot;Yuxuan&quot;]}</script><script type=\"text/javascript\" xlink:href=\"https://kozea.github.io/pygal.js/2.0.x/pygal-tooltips.min.js\"/></defs><title>Weight Changes </title><g class=\"graph line-graph vertical\"><rect x=\"0\" y=\"0\" width=\"800\" height=\"600\" class=\"background\"/><g transform=\"translate(140, 46)\" class=\"plot\"><rect x=\"0\" y=\"0\" width=\"639.6\" height=\"488\" class=\"background\"/><g class=\"axis y always_show\"><path d=\"M0.000000 488.000000 h639.600000\" class=\"line\"/><g class=\"guides\"><path d=\"M0.000000 478.615385 h639.600000\" class=\"major guide line\"/><text x=\"-5\" y=\"482.11538461538464\" class=\"major\">40</text><title>40</title></g><g class=\"guides\"><path d=\"M0.000000 441.076923 h639.600000\" class=\"guide line\"/><text x=\"-5\" y=\"444.5769230769231\" class=\"\">42</text><title>42</title></g><g class=\"guides\"><path d=\"M0.000000 403.538462 h639.600000\" class=\"guide line\"/><text x=\"-5\" y=\"407.03846153846155\" class=\"\">44</text><title>44</title></g><g class=\"guides\"><path d=\"M0.000000 366.000000 h639.600000\" class=\"guide line\"/><text x=\"-5\" y=\"369.5\" class=\"\">46</text><title>46</title></g><g class=\"guides\"><path d=\"M0.000000 328.461538 h639.600000\" class=\"guide line\"/><text x=\"-5\" y=\"331.96153846153845\" class=\"\">48</text><title>48</title></g><g class=\"guides\"><path d=\"M0.000000 290.923077 h639.600000\" class=\"major guide line\"/><text x=\"-5\" y=\"294.4230769230769\" class=\"major\">50</text><title>50</title></g><g class=\"guides\"><path d=\"M0.000000 253.384615 h639.600000\" class=\"guide line\"/><text x=\"-5\" y=\"256.88461538461536\" class=\"\">52</text><title>52</title></g><g class=\"guides\"><path d=\"M0.000000 215.846154 h639.600000\" class=\"guide line\"/><text x=\"-5\" y=\"219.34615384615387\" class=\"\">54</text><title>54</title></g><g class=\"guides\"><path d=\"M0.000000 178.307692 h639.600000\" class=\"guide line\"/><text x=\"-5\" y=\"181.80769230769232\" class=\"\">56</text><title>56</title></g><g class=\"guides\"><path d=\"M0.000000 140.769231 h639.600000\" class=\"guide line\"/><text x=\"-5\" y=\"144.26923076923077\" class=\"\">58</text><title>58</title></g><g class=\"guides\"><path d=\"M0.000000 103.230769 h639.600000\" class=\"major guide line\"/><text x=\"-5\" y=\"106.73076923076923\" class=\"major\">60</text><title>60</title></g><g class=\"guides\"><path d=\"M0.000000 65.692308 h639.600000\" class=\"guide line\"/><text x=\"-5\" y=\"69.19230769230768\" class=\"\">62</text><title>62</title></g><g class=\"guides\"><path d=\"M0.000000 28.153846 h639.600000\" class=\"guide line\"/><text x=\"-5\" y=\"31.653846153846132\" class=\"\">64</text><title>64</title></g></g><g class=\"axis x\"><g class=\"guides\"><path d=\"M12.300000 0.000000 v488.000000\" class=\"axis line\"/><text x=\"12.3\" y=\"503.0\" class=\"\">0</text></g><g class=\"guides\"><path d=\"M319.800000 0.000000 v488.000000\" class=\"guide line\"/><text x=\"319.8\" y=\"503.0\" class=\"\">1</text></g><g class=\"guides\"><path d=\"M627.300000 0.000000 v488.000000\" class=\"guide line\"/><text x=\"627.3000000000001\" y=\"503.0\" class=\"\">2</text></g></g><g class=\"series serie-0 color-0\"><path d=\"M12.300000 290.923077 L319.800000 478.615385 627.300000 9.384615\" class=\"line reactive nofill\"/></g></g><g class=\"titles\"><text x=\"400.0\" y=\"26\" class=\"title plot_title\">Weight Changes </text><text x=\"460.2\" y=\"580\" class=\"title\">Day</text><text x=\"72.39999999999999\" y=\"316.0\" class=\"title\" transform=\"rotate(-90 72.400000 290.000000)\">kg</text></g><g transform=\"translate(140, 46)\" class=\"plot overlay\"><g class=\"series serie-0 color-0\"><g class=\"dots\"><circle cx=\"12.3\" cy=\"290.9230769230769\" r=\"2.5\" class=\"dot reactive tooltip-trigger\"/><desc class=\"value\">50</desc><desc class=\"x top\">12.3</desc><desc class=\"y top\">290.9230769230769</desc><desc class=\"x_label\">0</desc></g><g class=\"dots\"><circle cx=\"319.8\" cy=\"478.61538461538464\" r=\"2.5\" class=\"dot reactive tooltip-trigger\"/><desc class=\"value\">40</desc><desc class=\"x top\">319.8</desc><desc class=\"y top\">478.61538461538464</desc><desc class=\"x_label\">1</desc></g><g class=\"dots\"><circle cx=\"627.3000000000001\" cy=\"9.384615384615358\" r=\"2.5\" class=\"dot reactive tooltip-trigger\"/><desc class=\"value\">65</desc><desc class=\"x left\">627.3000000000001</desc><desc class=\"y left\">9.384615384615358</desc><desc class=\"x_label\">2</desc></g></g></g><g transform=\"translate(140, 46)\" class=\"plot text-overlay\"><g class=\"series serie-0 color-0\"/></g><g transform=\"translate(140, 46)\" class=\"plot tooltip-overlay\"><g transform=\"translate(0 0)\" style=\"opacity: 0\" class=\"tooltip\"><rect rx=\"0\" ry=\"0\" width=\"0\" height=\"0\" class=\"tooltip-box\"/><g class=\"text\"/></g></g><g transform=\"translate(10, 56)\" class=\"legends\"><g id=\"activate-serie-0\" class=\"legend reactive activate-serie\"><rect x=\"0.0\" y=\"1.0\" width=\"12\" height=\"12\" class=\"color-0 reactive\"/><text x=\"17.0\" y=\"11.2\">Yuxuan</text></g></g><g transform=\"translate(790, 56)\" class=\"legends\"/></g></svg>"
      ],
      "text/plain": [
       "<IPython.core.display.SVG object>"
      ]
     },
     "metadata": {},
     "output_type": "display_data"
    }
   ],
   "source": [
    "P1=Records('Yuxuan',22,'female',175,55)\n",
    "P2=Records('Rain',22,'female',165,50)\n",
    "P1.add_weight(50)\n",
    "P1.add_weight(40)\n",
    "P1.add_weight(65)\n",
    "P1.weight_change_plot()"
   ]
  },
  {
   "cell_type": "code",
   "execution_count": 112,
   "metadata": {},
   "outputs": [
    {
     "name": "stdout",
     "output_type": "stream",
     "text": [
      "Name: Yuxuan Age: 22 Genger: female Height: 175 Wegiht:55 \n",
      "weight list[56.5, 55.5, 51.5, 56.5, 55.5, 51.5]\n",
      "Today's weight is 56.5 kg\n",
      "Today's weight is 55.5 kg\n",
      "Today's weight is 51.5 kg\n"
     ]
    }
   ],
   "source": []
  }
 ],
 "metadata": {
  "kernelspec": {
   "display_name": "Python 3",
   "language": "python",
   "name": "python3"
  },
  "language_info": {
   "codemirror_mode": {
    "name": "ipython",
    "version": 3
   },
   "file_extension": ".py",
   "mimetype": "text/x-python",
   "name": "python",
   "nbconvert_exporter": "python",
   "pygments_lexer": "ipython3",
   "version": "3.8.3"
  }
 },
 "nbformat": 4,
 "nbformat_minor": 4
}
