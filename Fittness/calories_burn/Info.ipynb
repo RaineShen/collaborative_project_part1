{
 "cells": [
  {
   "cell_type": "code",
   "execution_count": 220,
   "metadata": {},
   "outputs": [],
   "source": [
    "import pygal\n",
    "\n",
    "class Records:\n",
    "    def __init__(self,name,age,gender,height,weight):\n",
    "        \n",
    "        self.name=name\n",
    "        self.age=age\n",
    "        self.gender=gender\n",
    "        self.height=height  \n",
    "        self.weight=weight   \n",
    "    \n",
    "    \n",
    "    def display(self):\n",
    "        print(\"Name: {} Age: {} Genger: {} Height: {} Wegiht:{} \".format(self.name,self.age,self.gender,self.height,self.weight))\n",
    "        print(\"weight list{}\".format(self.weight_list))\n",
    "\n",
    "\n",
    "        \n",
    "        \n",
    "class KPI(Records):\n",
    "\n",
    "    def __init__(self,name,age,gender,height,weight):\n",
    "        Records.__init__(self,name,age,gender,height,weight)\n",
    "        \n",
    "        \n",
    "    def BMI(self):\n",
    "        \"\"\"\"\"\n",
    "        https://www.cdc.gov/obesity/adult/defining.html#:~:text=If%20your%20BMI%20is%20less,falls%20within%20the%20obese%20range.\n",
    "        BMI=body mass index\n",
    "        m=mass (in kilograms)\n",
    "        h=height (height (in meters))\n",
    "        \"\"\"\n",
    "        bmi=self.weight/(self.height/100)**2\n",
    "        if bmi<18.5:\n",
    "            bmi_range=\"underweight\"\n",
    "        elif bmi>18.5 and bmi<25:\n",
    "            bmi_range=\"normal\"\n",
    "        elif bmi>25 and bmi<30:\n",
    "            bmi_range=\"overweight\"\n",
    "        elif bmi>30:\n",
    "            bmi_range=\"obese\"\n",
    "            \n",
    "        print(\"Hello,{} your BMI is {} which is in {} range\".format(self.name,bmi,bmi_range))\n",
    "        \n",
    "    def BMR(self):\n",
    "        \"\"\"\n",
    "        Basal metabolic rate is a measurement \n",
    "        of the number of calories needed to perform \n",
    "        your body's most basic (basal) functions, \n",
    "        like breathing, circulation and cell production. \n",
    "        BMR is most accurately measured in a lab setting under very restrictive conditions\n",
    "        \"\"\"\n",
    "        \"\"\"\n",
    "        https://www.bmi-calculator.net/bmr-calculator/bmr-formula.php\n",
    "        Harris-Benedict Equation\n",
    "        Women: BMR = 655 + (9.6 x weight in kg) + (1.8 x height in cm) - (4.7 x age in years)\n",
    "        Men: BMR = 66 + (13.7 x weight in kg) + (5 x height in cm) - (6.8 x age in years)\n",
    "        \"\"\"\n",
    "        if self.gender==\"female\":\n",
    "            bmr= 655 + (9.6 * self.weight) + (1.8* self.height- (4.7* self.age))\n",
    "        else:\n",
    "            bmr= 66 + (13.7*self.weight) + (5*self.height) - (6.8*self.age)\n",
    "        print(\"Hello,{} your BMR is around {} Kcal/day\".format(self.name,bmr))\n",
    "            \n",
    "              "
   ]
  },
  {
   "cell_type": "code",
   "execution_count": null,
   "metadata": {},
   "outputs": [],
   "source": []
  },
  {
   "cell_type": "code",
   "execution_count": 221,
   "metadata": {},
   "outputs": [
    {
     "name": "stdout",
     "output_type": "stream",
     "text": [
      "Hello,Yuxuan your BMR is around 1394.6 Kcal/day\n",
      "Hello,Yuxuan your BMI is 17.959183673469386 which is in underweight range\n"
     ]
    }
   ],
   "source": [
    "P1=Records('Yuxuan',22,'female',175,55)\n",
    "P2=Records('Rain',22,'female',165,50)\n",
    "K1=KPI('Yuxuan',22,'female',175,55)\n",
    "K1.BMR()\n",
    "K1.BMI()"
   ]
  },
  {
   "cell_type": "code",
   "execution_count": null,
   "metadata": {},
   "outputs": [],
   "source": []
  }
 ],
 "metadata": {
  "kernelspec": {
   "display_name": "Python 3",
   "language": "python",
   "name": "python3"
  },
  "language_info": {
   "codemirror_mode": {
    "name": "ipython",
    "version": 3
   },
   "file_extension": ".py",
   "mimetype": "text/x-python",
   "name": "python",
   "nbconvert_exporter": "python",
   "pygments_lexer": "ipython3",
   "version": "3.8.3"
  }
 },
 "nbformat": 4,
 "nbformat_minor": 4
}
