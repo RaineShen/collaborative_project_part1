{
 "cells": [
  {
   "cell_type": "code",
   "execution_count": 243,
   "metadata": {},
   "outputs": [],
   "source": [
    "import pygal\n",
    "\n",
    "class Records:\n",
    "    def __init__(self,name,age):\n",
    "        \n",
    "        self.name=name\n",
    "        self.age=age\n",
    "    \n",
    "    \n",
    "    def display(self):\n",
    "        print(\"Name: {} Age: {} Genger: {} Height: {} Wegiht:{} \".format(self.name,self.age,self.gender,self.height,self.weight))\n",
    "\n",
    "\n",
    "        \n",
    "        \n",
    "class KPI(Records):\n",
    "\n",
    "    def __init__(self,name,age,gender,height,weight):\n",
    "        Records.__init__(self,name,age)\n",
    "        self.gender=gender\n",
    "        self.height=height  \n",
    "        self.weight=weight \n",
    "    \n",
    "    def display(self):\n",
    "        Records.display(self)\n",
    "        print(\"Genger: {} Height: {} Wegiht:{} \".format(self.gender,self.height,self.weight))\n",
    "\n",
    "\n",
    "        \n",
    "        \n",
    "    def BMI(self):\n",
    "        \"\"\"\"\"\n",
    "        https://www.cdc.gov/obesity/adult/defining.html#:~:text=If%20your%20BMI%20is%20less,falls%20within%20the%20obese%20range.\n",
    "        BMI=body mass index\n",
    "        m=mass (in kilograms)\n",
    "        h=height (height (in meters))\n",
    "        \"\"\"\n",
    "        bmi=self.weight/(self.height/100)**2\n",
    "        if bmi<18.5:\n",
    "            bmi_range=\"underweight\"\n",
    "        elif bmi>18.5 and bmi<25:\n",
    "            bmi_range=\"normal\"\n",
    "        elif bmi>25 and bmi<30:\n",
    "            bmi_range=\"overweight\"\n",
    "        elif bmi>30:\n",
    "            bmi_range=\"obese\"\n",
    "        self.bmi=bmi    \n",
    "        print(\"Hello,{} your BMI is {} which is in {} range\".format(self.name,bmi,bmi_range))\n",
    "        \n",
    "    def BMR(self):\n",
    "        \"\"\"\n",
    "        Basal metabolic rate is a measurement \n",
    "        of the number of calories needed to perform \n",
    "        your body's most basic (basal) functions, \n",
    "        like breathing, circulation and cell production. \n",
    "        BMR is most accurately measured in a lab setting under very restrictive conditions\n",
    "        \"\"\"\n",
    "        \"\"\"\n",
    "        https://www.bmi-calculator.net/bmr-calculator/bmr-formula.php\n",
    "        Harris-Benedict Equation\n",
    "        Women: BMR = 655 + (9.6 x weight in kg) + (1.8 x height in cm) - (4.7 x age in years)\n",
    "        Men: BMR = 66 + (13.7 x weight in kg) + (5 x height in cm) - (6.8 x age in years)\n",
    "        \"\"\"\n",
    "        if self.gender==\"female\":\n",
    "            bmr= 655 + (9.6 * self.weight) + (1.8* self.height- (4.7* self.age))\n",
    "        else:\n",
    "            bmr= 66 + (13.7*self.weight) + (5*self.height) - (6.8*self.age)\n",
    "        self.bmr=bmr\n",
    "        print(\"Hello,{} your BMR is around {} Kcal/day\".format(self.name,bmr))\n",
    "    \n",
    "    def totalcal(self,intensity=0,time=0):\n",
    "        \"\"\"\n",
    "        time= exercise time (in mintues)\n",
    "        intensity has three levels= 3(Light),4(Moderate),7(Vigorous)\n",
    "        Total calories burned = Duration (in minutes)*(MET*3.5*weight in kg)/200\n",
    "        \"\"\"\n",
    "        exc_cal=time*(intensity*3.5*self.weight)/200\n",
    "        total=exc_cal+self.bmr\n",
    "        return total\n",
    "            \n",
    "              "
   ]
  },
  {
   "cell_type": "code",
   "execution_count": null,
   "metadata": {},
   "outputs": [],
   "source": []
  },
  {
   "cell_type": "code",
   "execution_count": 244,
   "metadata": {},
   "outputs": [
    {
     "name": "stdout",
     "output_type": "stream",
     "text": [
      "Hello,Yuxuan your BMR is around 1955.9 Kcal/day\n",
      "Hello,Yuxuan your BMI is 27.755102040816325 which is in overweight range\n"
     ]
    },
    {
     "data": {
      "text/plain": [
       "1955.9"
      ]
     },
     "execution_count": 244,
     "metadata": {},
     "output_type": "execute_result"
    }
   ],
   "source": [
    "P1=Records('Yuxuan',22)\n",
    "P2=Records('Rain',22)\n",
    "K1=KPI('Yuxuan',22,'male',175,85)\n",
    "K1.BMR()\n",
    "K1.BMI()\n",
    "K1.totalcal()"
   ]
  },
  {
   "cell_type": "code",
   "execution_count": null,
   "metadata": {},
   "outputs": [],
   "source": []
  }
 ],
 "metadata": {
  "kernelspec": {
   "display_name": "Python 3",
   "language": "python",
   "name": "python3"
  },
  "language_info": {
   "codemirror_mode": {
    "name": "ipython",
    "version": 3
   },
   "file_extension": ".py",
   "mimetype": "text/x-python",
   "name": "python",
   "nbconvert_exporter": "python",
   "pygments_lexer": "ipython3",
   "version": "3.8.3"
  }
 },
 "nbformat": 4,
 "nbformat_minor": 4
}
