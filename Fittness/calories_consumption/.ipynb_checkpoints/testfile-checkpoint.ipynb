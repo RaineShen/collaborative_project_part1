{
 "cells": [
  {
   "cell_type": "code",
   "execution_count": 1,
   "metadata": {},
   "outputs": [
    {
     "ename": "ModuleNotFoundError",
     "evalue": "No module named 'Fittness'",
     "output_type": "error",
     "traceback": [
      "\u001b[0;31m---------------------------------------------------------------------------\u001b[0m",
      "\u001b[0;31mModuleNotFoundError\u001b[0m                       Traceback (most recent call last)",
      "\u001b[0;32m<ipython-input-1-b1449f3304bf>\u001b[0m in \u001b[0;36m<module>\u001b[0;34m\u001b[0m\n\u001b[0;32m----> 1\u001b[0;31m \u001b[0;32mfrom\u001b[0m \u001b[0mFittness\u001b[0m\u001b[0;34m.\u001b[0m\u001b[0mcalories_burn\u001b[0m \u001b[0;32mimport\u001b[0m \u001b[0mMonitoring\u001b[0m\u001b[0;34m\u001b[0m\u001b[0;34m\u001b[0m\u001b[0m\n\u001b[0m\u001b[1;32m      2\u001b[0m \u001b[0;32mfrom\u001b[0m  \u001b[0mFittness\u001b[0m\u001b[0;34m.\u001b[0m\u001b[0mcalories_burn\u001b[0m \u001b[0;32mimport\u001b[0m \u001b[0mRecords\u001b[0m\u001b[0;34m\u001b[0m\u001b[0;34m\u001b[0m\u001b[0m\n\u001b[1;32m      3\u001b[0m \u001b[0;34m\u001b[0m\u001b[0m\n\u001b[1;32m      4\u001b[0m \u001b[0mFittness\u001b[0m\u001b[0;34m.\u001b[0m\u001b[0mcalories_intake\u001b[0m\u001b[0;34m\u001b[0m\u001b[0;34m\u001b[0m\u001b[0m\n\u001b[1;32m      5\u001b[0m \u001b[0;34m\u001b[0m\u001b[0m\n",
      "\u001b[0;31mModuleNotFoundError\u001b[0m: No module named 'Fittness'"
     ]
    }
   ],
   "source": [
    "from Fittness.calories_burn import Monitoring\n",
    "from  Fittness.calories_burn import Records\n",
    "\n",
    "Fittness.calories_intake\n",
    "\n",
    "\n",
    "name = input(\"Please Enter name: \")\n",
    "gender = input(\"Please Enter your gender (female or male): \")\n",
    "age= int(input(\"Please Enter your age (integer): \"))\n",
    "height= int(input(\"Please Enter your height in cm: \"  ))\n",
    "weight= int(input(\"Please Enter your weight in kg: \"))\n",
    "\n",
    "\n",
    "\n",
    "P1=Records(name,gender,age,height,weight)\n",
    "P1.display()\n",
    "P1.BMI()\n",
    "P1.BMR()\n",
    "P1.totalcal()\n",
    "\n",
    "\n",
    "\n",
    "print(\"You could calculate your burned calories for today from Records.totalcal\")\n",
    "calory=float(input(\"Please Enter your calory in kcal: \"))\n",
    "\n",
    "\n",
    "M1=Monitoring(name,gender,age,height,weight,calory)\n",
    "M1.new_weight(55)\n",
    "M1.new_calory(1893)\n",
    "M1.new_weight(56.4)\n",
    "M1.new_calory(1993)\n",
    "M1.new_weight(57.4)\n",
    "M1.new_calory(1893)\n",
    "M1.new_weight(58.4)\n",
    "M1.new_calory(1893)\n",
    "M1.new_weight(58.4)\n",
    "M1.weight_calory_plot()\n",
    "M1.weight_change_plot()\n",
    "M1.calory_change_plot()"
   ]
  },
  {
   "cell_type": "code",
   "execution_count": null,
   "metadata": {},
   "outputs": [],
   "source": []
  },
  {
   "cell_type": "code",
   "execution_count": null,
   "metadata": {},
   "outputs": [],
   "source": []
  }
 ],
 "metadata": {
  "kernelspec": {
   "display_name": "Python 3",
   "language": "python",
   "name": "python3"
  },
  "language_info": {
   "codemirror_mode": {
    "name": "ipython",
    "version": 3
   },
   "file_extension": ".py",
   "mimetype": "text/x-python",
   "name": "python",
   "nbconvert_exporter": "python",
   "pygments_lexer": "ipython3",
   "version": "3.8.3"
  }
 },
 "nbformat": 4,
 "nbformat_minor": 4
}
