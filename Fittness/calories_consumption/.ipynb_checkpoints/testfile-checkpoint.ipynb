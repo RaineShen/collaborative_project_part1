{
 "cells": [
  {
   "cell_type": "code",
   "execution_count": 9,
   "metadata": {},
   "outputs": [
    {
     "name": "stdin",
     "output_type": "stream",
     "text": [
      "Please Enter name:  john\n",
      "Please Enter your gender (female or male):  male\n",
      "Please Enter your age (integer):  22\n",
      "Please Enter your height in cm:  178\n",
      "Please Enter your weight in kg:  89\n"
     ]
    },
    {
     "name": "stdout",
     "output_type": "stream",
     "text": [
      "Name: john Age: 22 Gender:male Height: 178cm Wegiht: 89.0kg \n",
      "Hello,john your BMI is 28.09 which is in overweight range\n",
      "Hello,john your BMR is around 2025.7000000000003 Kcal/day\n"
     ]
    },
    {
     "name": "stdin",
     "output_type": "stream",
     "text": [
      "Did you do any exercises today (Yes/No):  No\n"
     ]
    },
    {
     "name": "stdout",
     "output_type": "stream",
     "text": [
      "Hello,THe total burned calories for today is 2025.7000000000003 Kcal\n",
      "You could calculate your burned calories for today from Records.totalcal\n"
     ]
    },
    {
     "name": "stdin",
     "output_type": "stream",
     "text": [
      "Please Enter your calory in kcal:  2025.2\n"
     ]
    },
    {
     "ename": "ValueError",
     "evalue": "invalid literal for int() with base 10: '2025.2'",
     "output_type": "error",
     "traceback": [
      "\u001b[0;31m---------------------------------------------------------------------------\u001b[0m",
      "\u001b[0;31mValueError\u001b[0m                                Traceback (most recent call last)",
      "\u001b[0;32m<ipython-input-9-ab1434ae9191>\u001b[0m in \u001b[0;36m<module>\u001b[0;34m\u001b[0m\n\u001b[1;32m     23\u001b[0m \u001b[0;34m\u001b[0m\u001b[0m\n\u001b[1;32m     24\u001b[0m \u001b[0mprint\u001b[0m\u001b[0;34m(\u001b[0m\u001b[0;34m\"You could calculate your burned calories for today from Records.totalcal\"\u001b[0m\u001b[0;34m)\u001b[0m\u001b[0;34m\u001b[0m\u001b[0;34m\u001b[0m\u001b[0m\n\u001b[0;32m---> 25\u001b[0;31m \u001b[0mcalory\u001b[0m\u001b[0;34m=\u001b[0m\u001b[0mint\u001b[0m\u001b[0;34m(\u001b[0m\u001b[0minput\u001b[0m\u001b[0;34m(\u001b[0m\u001b[0;34m\"Please Enter your calory in kcal: \"\u001b[0m\u001b[0;34m)\u001b[0m\u001b[0;34m)\u001b[0m\u001b[0;34m\u001b[0m\u001b[0;34m\u001b[0m\u001b[0m\n\u001b[0m\u001b[1;32m     26\u001b[0m \u001b[0;34m\u001b[0m\u001b[0m\n\u001b[1;32m     27\u001b[0m \u001b[0;34m\u001b[0m\u001b[0m\n",
      "\u001b[0;31mValueError\u001b[0m: invalid literal for int() with base 10: '2025.2'"
     ]
    }
   ],
   "source": [
    "from monitoring import Monitoring\n",
    "from  records import Records\n",
    "\n",
    "\n",
    "name = input(\"Please Enter name: \")\n",
    "gender = input(\"Please Enter your gender (female or male): \")\n",
    "age= int(input(\"Please Enter your age (integer): \"))\n",
    "height= int(input(\"Please Enter your height in cm: \"  ))\n",
    "weight= int(input(\"Please Enter your weight in kg: \"))\n",
    "\n",
    "\n",
    "\n",
    "P1=Records(name,gender,age,height,weight)\n",
    "P1.display()\n",
    "P1.BMI()\n",
    "P1.BMR()\n",
    "P1.totalcal()\n",
    "\n",
    "\n",
    "# name = input(\"Please Enter name: \")\n",
    "# weight= int(input(\"Please Enter your weight in kg: \"))\n",
    "# calories=int(input(\"Please Enter your burned calory in kcal: \"))\n",
    "\n",
    "print(\"You could calculate your burned calories for today from Records.totalcal\")\n",
    "calory=float(input(\"Please Enter your calory in kcal: \"))\n",
    "\n",
    "\n",
    "M1=Monitoring(name,gender,age,height,weight,calory)\n",
    "M1.new_weight(55)\n",
    "M1.new_calory(1893)\n",
    "M1.new_weight(56.4)\n",
    "M1.new_calory(1993)\n",
    "M1.new_weight(57.4)\n",
    "M1.new_calory(1893)\n",
    "M1.new_weight(58.4)\n",
    "M1.new_calory(1893)\n",
    "M1.new_weight(58.4)\n",
    "M1.weight_calory_plot()\n",
    "M1.weight_change_plot()\n",
    "M1.calory_change_plot()"
   ]
  },
  {
   "cell_type": "code",
   "execution_count": null,
   "metadata": {},
   "outputs": [],
   "source": []
  },
  {
   "cell_type": "code",
   "execution_count": null,
   "metadata": {},
   "outputs": [],
   "source": []
  }
 ],
 "metadata": {
  "kernelspec": {
   "display_name": "Python 3",
   "language": "python",
   "name": "python3"
  },
  "language_info": {
   "codemirror_mode": {
    "name": "ipython",
    "version": 3
   },
   "file_extension": ".py",
   "mimetype": "text/x-python",
   "name": "python",
   "nbconvert_exporter": "python",
   "pygments_lexer": "ipython3",
   "version": "3.8.3"
  }
 },
 "nbformat": 4,
 "nbformat_minor": 4
}
