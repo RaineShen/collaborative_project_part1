{
 "cells": [
  {
   "cell_type": "code",
   "execution_count": null,
   "metadata": {},
   "outputs": [],
   "source": [
    "from Fittness.calories_intake import nutrients as nu\n",
    "from Fittness.calories_intake import visualization as vi\n",
    "\n",
    "nu.entry()\n",
    "vi.entry()"
   ]
  },
  {
   "cell_type": "markdown",
   "metadata": {},
   "source": [
    "**Random numbers for entering for vi.entry():**\n",
    "\n",
    "Protein -- 50 60 45 87 32 15 69 54 20 32 65 78\n",
    "\n",
    "Fat -- 47 40 45 45 32 15 14 36 20 15 20 54\n",
    "\n",
    "Carb -- 126 155 102 87 135 120 69 69 88 78 90 100"
   ]
  }
 ],
 "metadata": {
  "kernelspec": {
   "display_name": "Python 3",
   "language": "python",
   "name": "python3"
  },
  "language_info": {
   "codemirror_mode": {
    "name": "ipython",
    "version": 3
   },
   "file_extension": ".py",
   "mimetype": "text/x-python",
   "name": "python",
   "nbconvert_exporter": "python",
   "pygments_lexer": "ipython3",
   "version": "3.8.3"
  }
 },
 "nbformat": 4,
 "nbformat_minor": 4
}
