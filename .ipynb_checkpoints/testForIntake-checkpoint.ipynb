{
 "cells": [
  {
   "cell_type": "code",
   "execution_count": 1,
   "metadata": {},
   "outputs": [
    {
     "name": "stdin",
     "output_type": "stream",
     "text": [
      "How many protein have you consumed in gram? 50\n",
      "How many fat have you consumed in gram? 50\n",
      "How many carbohydrate have you consumed in gram? 50\n",
      "What is your weight in kg? 50\n",
      "What is your height in cm? 50\n",
      "What is your current age? 50\n",
      "What is your gender? (m/f) 50\n"
     ]
    },
    {
     "name": "stdout",
     "output_type": "stream",
     "text": [
      "Choose your activity level:\n",
      "1 - Sedentary (little or no exercise)\n",
      "2 - Lightly active (exercise 1-3 days/week)\n",
      "3 - Moderately active (exercise 3-5 days/week)\n",
      "4 - Active (exercise 6-7 days/week)\n",
      "5 - Very active (hard exercise 6-7 days/week)\n"
     ]
    },
    {
     "name": "stdin",
     "output_type": "stream",
     "text": [
      " 50\n"
     ]
    },
    {
     "ename": "ValueError",
     "evalue": "Please choose a valid number",
     "output_type": "error",
     "traceback": [
      "\u001b[1;31m---------------------------------------------------------------------------\u001b[0m",
      "\u001b[1;31mValueError\u001b[0m                                Traceback (most recent call last)",
      "\u001b[1;32m<ipython-input-1-021edb77cc48>\u001b[0m in \u001b[0;36m<module>\u001b[1;34m\u001b[0m\n\u001b[0;32m      2\u001b[0m \u001b[1;32mfrom\u001b[0m \u001b[0mFittness\u001b[0m\u001b[1;33m.\u001b[0m\u001b[0mcalories_intake\u001b[0m \u001b[1;32mimport\u001b[0m \u001b[0mvisualization\u001b[0m \u001b[1;32mas\u001b[0m \u001b[0mvi\u001b[0m\u001b[1;33m\u001b[0m\u001b[1;33m\u001b[0m\u001b[0m\n\u001b[0;32m      3\u001b[0m \u001b[1;33m\u001b[0m\u001b[0m\n\u001b[1;32m----> 4\u001b[1;33m \u001b[0mnu\u001b[0m\u001b[1;33m.\u001b[0m\u001b[0mentry\u001b[0m\u001b[1;33m(\u001b[0m\u001b[1;33m)\u001b[0m\u001b[1;33m\u001b[0m\u001b[1;33m\u001b[0m\u001b[0m\n\u001b[0m\u001b[0;32m      5\u001b[0m \u001b[0mvi\u001b[0m\u001b[1;33m.\u001b[0m\u001b[0mentry\u001b[0m\u001b[1;33m(\u001b[0m\u001b[1;33m)\u001b[0m\u001b[1;33m\u001b[0m\u001b[1;33m\u001b[0m\u001b[0m\n",
      "\u001b[1;32mC:\\MDS\\DATA533\\Lab2_Colab\\533Lab2\\Fittness\\calories_intake\\nutrients.py\u001b[0m in \u001b[0;36mentry\u001b[1;34m()\u001b[0m\n\u001b[0;32m     88\u001b[0m         \u001b[0mact_fact\u001b[0m \u001b[1;33m=\u001b[0m \u001b[1;36m1.9\u001b[0m\u001b[1;33m\u001b[0m\u001b[1;33m\u001b[0m\u001b[0m\n\u001b[0;32m     89\u001b[0m     \u001b[1;32melse\u001b[0m\u001b[1;33m:\u001b[0m\u001b[1;33m\u001b[0m\u001b[1;33m\u001b[0m\u001b[0m\n\u001b[1;32m---> 90\u001b[1;33m         \u001b[1;32mraise\u001b[0m \u001b[0mValueError\u001b[0m\u001b[1;33m(\u001b[0m\u001b[1;34m'Please choose a valid number'\u001b[0m\u001b[1;33m)\u001b[0m\u001b[1;33m\u001b[0m\u001b[1;33m\u001b[0m\u001b[0m\n\u001b[0m\u001b[0;32m     91\u001b[0m         \u001b[0mentry\u001b[0m\u001b[1;33m(\u001b[0m\u001b[1;33m)\u001b[0m\u001b[1;33m\u001b[0m\u001b[1;33m\u001b[0m\u001b[0m\n\u001b[0;32m     92\u001b[0m \u001b[1;33m\u001b[0m\u001b[0m\n",
      "\u001b[1;31mValueError\u001b[0m: Please choose a valid number"
     ]
    }
   ],
   "source": [
    "from Fittness.calories_intake import nutrients as nu\n",
    "from Fittness.calories_intake import visualization as vi\n",
    "\n",
    "nu.entry()\n",
    "vi.entry()"
   ]
  },
  {
   "cell_type": "markdown",
   "metadata": {},
   "source": [
    "**Random numbers for entering for vi.entry():**\n",
    "\n",
    "Protein -- 50 60 45 87 32 15 69 54 20 32 65 78\n",
    "\n",
    "Fat -- 47 40 45 45 32 15 14 36 20 15 20 54\n",
    "\n",
    "Carb -- 126 155 102 87 135 120 69 69 88 78 90 100"
   ]
  }
 ],
 "metadata": {
  "kernelspec": {
   "display_name": "Python 3",
   "language": "python",
   "name": "python3"
  },
  "language_info": {
   "codemirror_mode": {
    "name": "ipython",
    "version": 3
   },
   "file_extension": ".py",
   "mimetype": "text/x-python",
   "name": "python",
   "nbconvert_exporter": "python",
   "pygments_lexer": "ipython3",
   "version": "3.8.3"
  }
 },
 "nbformat": 4,
 "nbformat_minor": 4
}
